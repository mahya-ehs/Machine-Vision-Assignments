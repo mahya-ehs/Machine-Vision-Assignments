{
 "cells": [
  {
   "cell_type": "markdown",
   "metadata": {
    "deletable": false,
    "editable": true,
    "slideshow": {
     "slide_type": ""
    },
    "tags": []
   },
   "source": [
    "# Machine Vision\n",
    "## Assignment 2 – Color\n",
    "\n",
    "## Personal details\n",
    "\n",
    "* **Name:** `PUT YOUR NAME HERE.`\n",
    "* **Student ID:** `PUT YOUR STUDENT ID HERE.`\n",
    "\n",
    "## Introduction\n",
    "\n",
    "In this assignment, you will explore the concepts of white balance (WB), color transformations, and 2D scatter plots. The assignment is centered around two images from the [**Rendered WB dataset**](https://yorkucvil.github.io/projects/public_html/sRGB_WB_correction/dataset.html). \n",
    "The first image, `incorrect_wb.jpg` (Figure 1a), exhibits an incorrect white balance with a noticeable blue color cast. In contrast, the second image, `ideal_wb.jpg` (Figure 1b) has been perfectly white-balanced using a color chart included in the scene. The third image (Figure 1c) shows the result of applying the gray world assumption for white balancing. Your goal is to implement this basic white balancing method. You will also visualize the effect of white balancing using 2D scatter plots in the CIELAB color space.\n",
    "\n",
    "Before starting, please study [**Lecture 3**](https://moodle.oulu.fi/mod/page/view.php?id=1705511) (Light and color) and the example code in [**`Color.ipynb`**](https://github.com/jtheikkila/mvis/blob/master/jupyter/Color.ipynb).\n",
    "\n",
    "<img src=\"fig1.jpg\">\n",
    "\n",
    "Let us start by reading and visualizing the images:"
   ]
  },
  {
   "cell_type": "code",
   "execution_count": null,
   "metadata": {
    "deletable": false,
    "editable": false,
    "nbgrader": {
     "cell_type": "code",
     "checksum": "32feb1275988ca677a9156cd528e4e21",
     "grade": false,
     "grade_id": "cell-344aad3703f683cc",
     "locked": true,
     "schema_version": 3,
     "solution": false,
     "task": false
    },
    "slideshow": {
     "slide_type": ""
    },
    "tags": []
   },
   "outputs": [],
   "source": [
    "import cv2\n",
    "import numpy as np\n",
    "import matplotlib.pyplot as plt\n",
    "%matplotlib inline\n",
    "\n",
    "# Read images\n",
    "img_ideal = cv2.imread('ideal_wb.jpg')\n",
    "img_incorrect = cv2.imread('incorrect_wb.jpg')\n",
    "\n",
    "# Convert from BGR to RGB\n",
    "img_ideal = cv2.cvtColor(img_ideal, cv2.COLOR_BGR2RGB)\n",
    "img_incorrect = cv2.cvtColor(img_incorrect, cv2.COLOR_BGR2RGB)\n",
    "\n",
    "# Display both images side by side\n",
    "plt.figure(figsize=(10,8))\n",
    "plt.subplot(1,2,1)\n",
    "plt.imshow(img_ideal)\n",
    "plt.title('Ideal white balance')\n",
    "plt.axis('off')\n",
    "\n",
    "plt.subplot(1,2,2)\n",
    "plt.imshow(img_incorrect)\n",
    "plt.title('Incorrect white balance')\n",
    "plt.axis('off')\n",
    "plt.show()"
   ]
  },
  {
   "cell_type": "markdown",
   "metadata": {
    "deletable": false,
    "editable": false,
    "nbgrader": {
     "cell_type": "markdown",
     "checksum": "6f00445ddd54b73bc4a86a7b24b6ed76",
     "grade": false,
     "grade_id": "cell-f4c0ea0c5274b1ff",
     "locked": true,
     "schema_version": 3,
     "solution": false,
     "task": false
    },
    "slideshow": {
     "slide_type": ""
    },
    "tags": []
   },
   "source": [
    "## Task 1 – White balancing (1.0 point)\n",
    "\n",
    "White balance (WB) ensures that objects in an image appear with consistent colors, regardless of the lighting conditions. It aims to normalize the effects of illumination, making objects appear as if they were under ideal “white light”. WB is performed by the camera’s integrated signal processor (ISP) on the raw-RGB image. This involves estimating the illumination in the scene and scaling each color channel to normalize the effect of the light source. After this, the ISP applies additional steps, such as a nonlinear gamma correction, to produce the final sRGB image.\n",
    "\n",
    "In this task, we aim to correct the white balance of the image `incorrect_wb.jpg`. Since the raw-RGB image is not available, we perform the white balancing in the sRGB color space. Your task is to implement a basic WB method based on the **gray world assumption**, which assumes that the average intensity of each color channel (red, green, and blue) in a well-balanced image should be approximately equal. This is typically a reasonable assumption if we have a good distribution of colors in the image.\n",
    "\n",
    "The aim is to multiply each color channel by a scaling factor to white balance the image. Mathematically, the correction can be defined as\n",
    "$$\n",
    "I'_c(x, y) = I_c(x, y) \\cdot \\frac{\\mu}{\\mu_c}, \\quad \\text{for } c \\in \\{R, G, B\\}\n",
    "$$\n",
    "where:\n",
    "- $I_c(x, y)$ is the intensity of channel $c$ at pixel $(x, y)$,\n",
    "- $I'_c(x, y)$ is the corrected intensity,\n",
    "- $\\mu_c$ is the average intensity of channel $c$,\n",
    "- $\\mu = \\frac{1}{3} (\\mu_R + \\mu_G + \\mu_B)$ is the overall average intensity across all channels.\n",
    "\n",
    "### Instructions\n",
    "Complete the function `white_balance(img)` shown below. Your implementation should:\n",
    "1. Compute the average intensity of each color channel $\\mu_R$, $\\mu_G$, and $\\mu_B$.\n",
    "2. Compute the overall average intensity $\\mu$.\n",
    "3. Calculate the scaling factor for each channel $\\frac{\\mu}{\\mu_c}$.\n",
    "4. Apply the scaling factors to the corresponding channels.\n",
    "5. Ensure that all pixel values are clipped to the range [0, 255]."
   ]
  },
  {
   "cell_type": "code",
   "execution_count": null,
   "metadata": {
    "deletable": false,
    "editable": true,
    "nbgrader": {
     "cell_type": "code",
     "checksum": "fff4e092c4fe0ddb084ee7715e2b33ed",
     "grade": true,
     "grade_id": "task1_code",
     "locked": false,
     "points": 1,
     "schema_version": 3,
     "solution": true,
     "task": false
    },
    "slideshow": {
     "slide_type": ""
    },
    "tags": []
   },
   "outputs": [],
   "source": [
    "def white_balance(img):\n",
    "\n",
    "    img_corrected = img.copy()\n",
    "    img_corrected = img_corrected.astype(np.float32)\n",
    "\n",
    "    # ---------- YOUR CODE STARTS HERE -----------\n",
    "    \n",
    "    \n",
    "    \n",
    "    \n",
    "    # ----------- YOUR CODE ENDS HERE ------------\n",
    "\n",
    "    # Clip and convert to uint8\n",
    "    img_corrected = np.clip(img_corrected, 0, 255)\n",
    "    img_corrected = img_corrected.astype(np.uint8)\n",
    "\n",
    "    return img_corrected\n",
    "\n",
    "img_wb = white_balance(img_incorrect)\n",
    "\n",
    "# Display both images side by side\n",
    "plt.figure(figsize=(12,8))\n",
    "plt.subplot(1,2,1)\n",
    "plt.imshow(img_ideal)\n",
    "plt.title('Ideal white balance')\n",
    "plt.axis('off')\n",
    "\n",
    "plt.subplot(1,2,2)\n",
    "plt.imshow(img_wb)\n",
    "plt.title('Gray world assumption')\n",
    "plt.axis('off')"
   ]
  },
  {
   "cell_type": "markdown",
   "metadata": {
    "deletable": false,
    "editable": false,
    "nbgrader": {
     "cell_type": "markdown",
     "checksum": "c820c38effdd88024827ef6f5803b764",
     "grade": false,
     "grade_id": "cell-d65dfde322902c09",
     "locked": true,
     "schema_version": 3,
     "solution": false,
     "task": false
    },
    "slideshow": {
     "slide_type": ""
    },
    "tags": []
   },
   "source": [
    "## Task 2 – Scatter Plots (1.0 points)\n",
    "\n",
    "In this task, you will visualize the effect of white balancing on the color distribution of an image in the CIELAB color space. The goal is to compare the 2D scatter plots of the incorrectly white-balanced image `img_incorrect`, gray-world white-balanced image `img_wb`, and ideally white-balanced image `img_ideal`. The 2D scatter plot should depict the distribution of pixel colors in the a* (green-red) and b* (blue-yellow) channels of the CIELAB color space. The example code in [**`Color.ipynb`**](https://github.com/jtheikkila/mvis/blob/master/jupyter/Color.ipynb) will help you to complete this task.\n",
    "\n",
    "By creating these scatter plots, you will observe how the gray-world white balancing modifies the color distribution. Ideally, the scatter plot for the white-balanced image should closely resemble that of the ideal white-balanced image.\n",
    "\n",
    "### Instructions\n",
    "Implement the function `scatter_plot(img_rgb)` to generate 2D scatter plots. \n",
    "1. Resize the input image by a factor of 4 to reduce computational overhead.\n",
    "2. Convert the RGB image to the CIELAB color space using OpenCV.\n",
    "3. Extract the `a*` and `b*` channels for the 2D scatter plot.\n",
    "4. Use the RGB colors of the pixels to color the scatter plot markers.\n",
    "5. Run the code cell to create and compare the scatter plots for `img_incorrect`, `img_ideal`, and `img_wb`. The resulting scatter plots should be similar (not identical) to those shown in Figure 1."
   ]
  },
  {
   "cell_type": "code",
   "execution_count": null,
   "metadata": {
    "deletable": false,
    "editable": true,
    "nbgrader": {
     "cell_type": "code",
     "checksum": "4cf5b9ab5924669bb62cb7bd06c17e27",
     "grade": true,
     "grade_id": "task2_code",
     "locked": false,
     "points": 1,
     "schema_version": 3,
     "solution": true,
     "task": false
    },
    "slideshow": {
     "slide_type": ""
    },
    "tags": []
   },
   "outputs": [],
   "source": [
    "def scatter_plot(img_rgb):\n",
    "    \n",
    "    # ---------- YOUR CODE STARTS HERE -----------\n",
    "    \n",
    "    \n",
    "    \n",
    "    \n",
    "    # ----------- YOUR CODE ENDS HERE ------------\n",
    "\n",
    "scatter_plot(img_incorrect)\n",
    "scatter_plot(img_ideal)\n",
    "scatter_plot(img_wb)"
   ]
  },
  {
   "cell_type": "markdown",
   "metadata": {
    "deletable": false,
    "editable": true,
    "slideshow": {
     "slide_type": ""
    },
    "tags": []
   },
   "source": [
    "# Aftermath\n",
    "\n",
    "Please provide short answers to the following questions:\n",
    "\n",
    "**1. How much time did you need to complete this exercise?**\n",
    "\n",
    "`REPLACE THIS TEXT WITH YOUR ANSWER.`\n",
    "\n",
    "**2. Did you experience any issues or find anything particularly confusing?**\n",
    "\n",
    "`REPLACE THIS TEXT WITH YOUR ANSWER.`\n"
   ]
  },
  {
   "cell_type": "markdown",
   "metadata": {
    "deletable": false,
    "editable": true,
    "slideshow": {
     "slide_type": ""
    },
    "tags": []
   },
   "source": [
    "# References\n",
    "\n",
    "`List any references here (optional).`"
   ]
  },
  {
   "cell_type": "markdown",
   "metadata": {
    "deletable": false,
    "editable": false,
    "nbgrader": {
     "cell_type": "markdown",
     "checksum": "6ce04b820531bad806142be310fad684",
     "grade": false,
     "grade_id": "cell-524d4e2be458e96f",
     "locked": true,
     "schema_version": 3,
     "solution": false,
     "task": false
    },
    "slideshow": {
     "slide_type": ""
    },
    "tags": []
   },
   "source": [
    "# Submission\n",
    "\n",
    "1. Go to `Kernel -> Restart & Clear Output` to remove all outputs.\n",
    "2. Compress this notebook (`MV_A2.ipynb`) into `MV_A2.zip`.\n",
    "3. Submit the **zip** file on Moodle.\n",
    "\n",
    "**Deadline: 26.01.2025**"
   ]
  }
 ],
 "metadata": {
  "kernelspec": {
   "display_name": "Python 3 (ipykernel)",
   "language": "python",
   "name": "python3"
  },
  "language_info": {
   "codemirror_mode": {
    "name": "ipython",
    "version": 3
   },
   "file_extension": ".py",
   "mimetype": "text/x-python",
   "name": "python",
   "nbconvert_exporter": "python",
   "pygments_lexer": "ipython3",
   "version": "3.12.1"
  }
 },
 "nbformat": 4,
 "nbformat_minor": 4
}
